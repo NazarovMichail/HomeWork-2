{
 "cells": [
  {
   "cell_type": "markdown",
   "metadata": {},
   "source": [
    "# Игра угадай число\n",
    "Нужно написать программу, которая угадывает число за число попыток `меньше 20`.\n",
    "## Условия соревнования\n",
    "- Компьютер загадывает целое число `от 1 до 100`, и нам его нужно угадать. Под «угадать», подразумевается «написать программу, которая угадывает число».\n",
    "- Алгоритм учитывает информацию о том, больше ли случайное число или меньше нужного нам.\n",
    "- Необходимо добиться того, чтобы программа угадывала число меньше, чем за `20 попыток`.\n",
    "\n",
    "## Импортируем все необходимые модули для проверки алгоритма:\n",
    "- Функцию **score_game** для оценки среднего числа попыток при 10000 угадываний  \n",
    "- Функцию **game_core_v3**, которая ущет загаданное число меньше чем за 20 попыток"
   ]
  },
  {
   "cell_type": "code",
   "execution_count": 1,
   "metadata": {},
   "outputs": [],
   "source": [
    "from game_v2 import score_game\n",
    "from game_v3 import game_core_v3"
   ]
  },
  {
   "cell_type": "markdown",
   "metadata": {},
   "source": [
    "## Угадываем при помощи бинарного поиска\n",
    "Помещаем в функцию score_game функцию game_core_v3 и получаем среднее количество попыток угадывания загаданного числа.\n",
    "Функция game_core_v3 использует алгоритм **`бинарного поиска`**."
   ]
  },
  {
   "cell_type": "code",
   "execution_count": 2,
   "metadata": {},
   "outputs": [
    {
     "name": "stdout",
     "output_type": "stream",
     "text": [
      "Ваш алгоритм угадывает число в среднем за:5 попыток\n"
     ]
    },
    {
     "data": {
      "text/plain": [
       "5"
      ]
     },
     "execution_count": 2,
     "metadata": {},
     "output_type": "execute_result"
    }
   ],
   "source": [
    "score_game(game_core_v3)"
   ]
  },
  {
   "cell_type": "markdown",
   "metadata": {},
   "source": [
    "## Результат\n",
    "Среднее число попыток значительно меньше 20, т.к. временная сложность алгоритма бинарного поиска равна **`O(log2 n)`**.\n",
    "\n"
   ]
  }
 ],
 "metadata": {
  "kernelspec": {
   "display_name": "Python 3",
   "language": "python",
   "name": "python3"
  },
  "language_info": {
   "codemirror_mode": {
    "name": "ipython",
    "version": 3
   },
   "file_extension": ".py",
   "mimetype": "text/x-python",
   "name": "python",
   "nbconvert_exporter": "python",
   "pygments_lexer": "ipython3",
   "version": "3.11.1"
  },
  "orig_nbformat": 4
 },
 "nbformat": 4,
 "nbformat_minor": 2
}
